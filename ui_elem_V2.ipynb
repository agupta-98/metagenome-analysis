{
 "cells": [
  {
   "cell_type": "markdown",
   "metadata": {},
   "source": [
    "## Setup"
   ]
  },
  {
   "cell_type": "code",
   "execution_count": 2,
   "metadata": {
    "scrolled": false
   },
   "outputs": [],
   "source": [
    "import ipywidgets as widgets\n",
    "from ipywidgets import Button, Layout, IntSlider, HBox, VBox\n",
    "import os\n",
    "import csv\n",
    "from IPython.display import display, clear_output, Markdown"
   ]
  },
  {
   "cell_type": "code",
   "execution_count": 4,
   "metadata": {},
   "outputs": [],
   "source": [
    "## Initializing all relevant variables as global variables\n",
    "global sample_column_id\n",
    "global graph_output_dir\n",
    "global stats_output_dir\n",
    "global amr_count_matrix_filepath\n",
    "global amr_metadata_filepath\n",
    "global megares_annotation_filename\n",
    "global biom_file\n",
    "global tre_file\n",
    "global tax_fasta\n",
    "global taxa_file\n",
    "global microbiome_temp_metadata_file\n",
    "global list_vals_a\n",
    "global list_vals_m"
   ]
  },
  {
   "cell_type": "markdown",
   "metadata": {},
   "source": [
    "### Text Entry Widgets"
   ]
  },
  {
   "cell_type": "code",
   "execution_count": 18,
   "metadata": {},
   "outputs": [],
   "source": [
    "sample_column_id = widgets.Text(\n",
    "    value='ID',\n",
    "    placeholder='What is the name of the column in the metadata file where the sample IDs are stored? ',\n",
    "    description='Column Name:',\n",
    "    disabled=False,\n",
    "    layout=Layout(width='70%'),\n",
    "    style = {'description_width': 'initial'}\n",
    ")\n",
    "\n",
    "graph_output_dir = widgets.Text(\n",
    "    value='graphs',\n",
    "    placeholder='Name the output directory for where the graphs should be saved',\n",
    "    description='Directory Name for Graphs: ',\n",
    "    disabled=False,\n",
    "    layout=Layout(width='70%'),\n",
    "    style = {'description_width': 'initial'}\n",
    ")\n",
    "\n",
    "stats_output_dir = widgets.Text(\n",
    "    value='stats',\n",
    "    placeholder='Name the output directory for where the statistics should be saved',\n",
    "    description='Directory Name for Stats: ',\n",
    "    disabled=False,\n",
    "    layout=Layout(width='70%'),\n",
    "    style = {'description_width': 'initial'}\n",
    ")\n",
    "\n",
    "direct_name_data = VBox([sample_column_id, graph_output_dir, stats_output_dir])"
   ]
  },
  {
   "cell_type": "markdown",
   "metadata": {},
   "source": [
    "## File Paths\n",
    "Creating elements to enter in file names in text boxes"
   ]
  },
  {
   "cell_type": "code",
   "execution_count": 5,
   "metadata": {},
   "outputs": [
    {
     "data": {
      "application/vnd.jupyter.widget-view+json": {
       "model_id": "",
       "version_major": 2,
       "version_minor": 0
      },
      "text/plain": [
       "VBox(children=(Dropdown(description='AMR Count Matrix File:', layout=Layout(width='50%'), options=('strict_SNP…"
      ]
     },
     "metadata": {},
     "output_type": "display_data"
    }
   ],
   "source": [
    "amr_count_file = widgets.Dropdown(\n",
    "    options=os.listdir(str(os.getcwd()) + \"/data\"),\n",
    "    value = \"strict_SNP_confirmed_AMR_analytic_matrix.csv\",\n",
    "    description='AMR Count Matrix File:',\n",
    "    disabled=False,\n",
    "    layout=Layout(width='50%'),\n",
    "    style = {'description_width': 'initial'}\n",
    ")\n",
    "\n",
    "amr_metadata_file = widgets.Dropdown(\n",
    "    options=os.listdir(str(os.getcwd()) + \"/data\"),\n",
    "    value = \"FC_meat_AMR_metadata.csv\",\n",
    "    description='Metadata File:',\n",
    "    disabled=False,\n",
    "    layout=Layout(width='50%'),\n",
    "    style = {'description_width': 'initial'}\n",
    ")\n",
    "\n",
    "megares_annot = widgets.Dropdown(\n",
    "    options=os.listdir(str(os.getcwd()) + \"/data\"),\n",
    "    value = \"megares_annotations_v1.03.csv\",\n",
    "    description='MEGARes Annotation File:',\n",
    "    disabled=False,\n",
    "    layout=Layout(width='50%'),\n",
    "    style = {'description_width': 'initial'}\n",
    ")\n",
    "\n",
    "resistome_filenames = VBox([amr_count_file, amr_metadata_file, megares_annot])"
   ]
  },
  {
   "cell_type": "code",
   "execution_count": 3,
   "metadata": {},
   "outputs": [],
   "source": [
    "biom = widgets.Dropdown(\n",
    "    options=os.listdir(str(os.getcwd()) + \"/data\"),\n",
    "    value = \"otu_table_json.biom\",\n",
    "    description='Biom File:',\n",
    "    disabled=False,\n",
    "    layout=Layout(width='50%'),\n",
    "    style = {'description_width': 'initial'}\n",
    ")\n",
    "\n",
    "tre = widgets.Dropdown(\n",
    "    options=os.listdir(str(os.getcwd()) + \"/data\"),\n",
    "    value = \"tree.nwk\",\n",
    "    description='tree file:',\n",
    "    disabled=False,\n",
    "    layout=Layout(width='50%'),\n",
    "    style = {'description_width': 'initial'}\n",
    ")\n",
    "\n",
    "tax = widgets.Dropdown(\n",
    "    options=os.listdir(str(os.getcwd()) + \"/data\"),\n",
    "    value = \"dna-sequences.fasta\",\n",
    "    description='fasta file:',\n",
    "    disabled=False,\n",
    "    layout=Layout(width='50%'),\n",
    "    style = {'description_width': 'initial'}\n",
    ")\n",
    "\n",
    "taxa = widgets.Dropdown(\n",
    "    options=os.listdir(str(os.getcwd()) + \"/data\"),\n",
    "    value = \"taxonomy.tsv\",\n",
    "    description='taxonomy file:',\n",
    "    disabled=False,\n",
    "    layout=Layout(width='50%'),\n",
    "    style = {'description_width': 'initial'}\n",
    ")\n",
    "\n",
    "microbiome_temp = widgets.Dropdown(\n",
    "    options=os.listdir(str(os.getcwd()) + \"/data\"),\n",
    "    value = \"FC_meat_metadata.csv\",\n",
    "    description='microbiome temp metadata file:',\n",
    "    disabled=False,\n",
    "    layout=Layout(width='50%'),\n",
    "    style = {'description_width': 'initial'}\n",
    ")\n",
    "\n",
    "microbiome_filenames = VBox([biom, tre, tax, taxa, microbiome_temp])"
   ]
  },
  {
   "cell_type": "code",
   "execution_count": 41,
   "metadata": {},
   "outputs": [],
   "source": [
    "## AMR Text Boxes\n",
    "\n",
    "microbiome_filenames = VBox([biom, tre, tax, taxa, microbiome_temp])"
   ]
  },
  {
   "cell_type": "code",
   "execution_count": 46,
   "metadata": {},
   "outputs": [
    {
     "name": "stdout",
     "output_type": "stream",
     "text": [
      "AMR Count Matrix Filepath: strict_SNP_confirmed_AMR_analytic_matrix.csv\n",
      "AMR Metadata Filepath: FC_meat_AMR_metadata.csv\n",
      "MEGARes Annotation Filepath: megares_annotations_v1.03.csv\n",
      "Biom Filepath: otu_table_json.biom\n",
      "Fasta Filepath: tree.nwk\n",
      "Taxonomy Filepath: taxonomy.tsv\n",
      "Microbiome Temp Metadata Filepath: FC_meat_metadata.csv\n",
      "\n",
      "All filepaths saved\n"
     ]
    }
   ],
   "source": [
    "## Function to save all the filepaths to the normal variable expected by the rest of the code\n",
    "def save_filepaths(b):\n",
    "    \n",
    "    global amr_count_matrix_filepath\n",
    "    global amr_metadata_filepath\n",
    "    global megares_annotation_filename\n",
    "    \n",
    "    global biom_file\n",
    "    global tre_file\n",
    "    global tax_fasta\n",
    "    global taxa_file\n",
    "    global microbiome_temp_metadata_file\n",
    "    \n",
    "    amr_count_matrix_filepath = \"data/\" + str(amr_count_file.value)\n",
    "    amr_metadata_filepath = \"data/\" + str(amr_metadata_file.value)\n",
    "    megares_annotation_filename = \"data/\" + str(megares_annot.value)\n",
    "    \n",
    "    biom_file = \"data/\" + str(biom.value)\n",
    "    tre_file = \"data/\" + str(tre.value)\n",
    "    tax_fasta = \"data/\" + str(tax.value)\n",
    "    taxa_file = \"data/\" + str(taxa.value)\n",
    "    microbiome_temp_metadata_file = \"data/\" + str(microbiome_temp.value)\n",
    "    \n",
    "    print(\"AMR Count Matrix Filepath: \" + str(amr_count_file.value))\n",
    "    print(\"AMR Metadata Filepath: \" + str(amr_metadata_file.value))\n",
    "    print(\"MEGARes Annotation Filepath: \" + str(megares_annot.value))\n",
    "    print(\"Biom Filepath: \" + str(biom.value))\n",
    "    print(\"Fasta Filepath: \" + str(tre.value))\n",
    "    print(\"Taxonomy Filepath: \" + str(taxa.value))\n",
    "    print(\"Microbiome Temp Metadata Filepath: \" + str(microbiome_temp.value))\n",
    "    print()\n",
    "    print(\"All filepaths saved\")\n",
    "    \n"
   ]
  },
  {
   "cell_type": "code",
   "execution_count": 1,
   "metadata": {},
   "outputs": [
    {
     "ename": "NameError",
     "evalue": "name 'widgets' is not defined",
     "output_type": "error",
     "traceback": [
      "\u001b[0;31m---------------------------------------------------------------------------\u001b[0m",
      "\u001b[0;31mNameError\u001b[0m                                 Traceback (most recent call last)",
      "\u001b[0;32m<ipython-input-1-9c8ef248aca9>\u001b[0m in \u001b[0;36m<module>\u001b[0;34m\u001b[0m\n\u001b[0;32m----> 1\u001b[0;31m save_filepath_button = widgets.Button(\n\u001b[0m\u001b[1;32m      2\u001b[0m     \u001b[0mdescription\u001b[0m\u001b[0;34m=\u001b[0m\u001b[0;34m\"Save the filepaths for analysis\"\u001b[0m\u001b[0;34m,\u001b[0m\u001b[0;34m\u001b[0m\u001b[0;34m\u001b[0m\u001b[0m\n\u001b[1;32m      3\u001b[0m     \u001b[0micon\u001b[0m \u001b[0;34m=\u001b[0m \u001b[0;34m'save'\u001b[0m\u001b[0;34m,\u001b[0m\u001b[0;34m\u001b[0m\u001b[0;34m\u001b[0m\u001b[0m\n\u001b[1;32m      4\u001b[0m     layout=Layout(width='70%'))\n\u001b[1;32m      5\u001b[0m \u001b[0;34m\u001b[0m\u001b[0m\n",
      "\u001b[0;31mNameError\u001b[0m: name 'widgets' is not defined"
     ]
    }
   ],
   "source": [
    "save_filepath_button = widgets.Button(\n",
    "    description=\"Save the filepaths for analysis\", \n",
    "    icon = 'save',\n",
    "    layout=Layout(width='70%'))\n",
    "\n",
    "save_filepath_button.on_click(save_filepaths)"
   ]
  },
  {
   "cell_type": "markdown",
   "metadata": {},
   "source": [
    "## AMR Exploratory variables\n",
    "Multiple text input boxes backend code"
   ]
  },
  {
   "cell_type": "code",
   "execution_count": 25,
   "metadata": {},
   "outputs": [],
   "source": [
    "### Making the function for the slider to choose number of accordions \n",
    "exp_graph_var_amr = widgets.IntSlider( \n",
    "    value=5,\n",
    "    min=0,\n",
    "    max=10,\n",
    "    step=1,\n",
    "    description='AMR',\n",
    "    continuous_update=False,\n",
    "    orientation='horizontal',\n",
    "    readout=True,\n",
    "    readout_format='d'\n",
    ")\n",
    "\n",
    "exp_graph_var_microbiome = widgets.IntSlider( \n",
    "    value=5,\n",
    "    min=0,\n",
    "    max=10,\n",
    "    step=1,\n",
    "    description= 'Microbiome',\n",
    "    continuous_update=False,\n",
    "    orientation='horizontal',\n",
    "    readout=True,\n",
    "    readout_format='d'\n",
    ")"
   ]
  },
  {
   "cell_type": "code",
   "execution_count": 26,
   "metadata": {},
   "outputs": [],
   "source": [
    "### Making the different text boxes for the 4 variables\n",
    "name = widgets.Text(\n",
    "    value='',\n",
    "    placeholder='Name',\n",
    "    disabled=False,\n",
    "    layout=Layout(width='70%'),\n",
    "    style = {'description_width': 'initial'}\n",
    ")\n",
    "\n",
    "\n",
    "#widgets.Text(value='', placeholder='Name', disabled=False, layout=Layout(width='70%'), style = {'description_width': 'initial'})\n",
    "\n",
    "\n",
    "subsets = widgets.Text(\n",
    "    value='',\n",
    "    placeholder='Subsets',\n",
    "    disabled=False,\n",
    "    layout=Layout(width='70%'),\n",
    "    style = {'description_width': 'initial'}\n",
    ")\n",
    "\n",
    "exploratory_var = widgets.Text(\n",
    "    value='',\n",
    "    placeholder='Exploratory Variable',\n",
    "    disabled=False,\n",
    "    layout=Layout(width='70%'),\n",
    "    style = {'description_width': 'initial'}\n",
    ")\n",
    "\n",
    "order = widgets.Text(\n",
    "    value='',\n",
    "    placeholder='Order',\n",
    "    disabled=False,\n",
    "    layout=Layout(width='70%'),\n",
    "    style = {'description_width': 'initial'}\n",
    ")\n"
   ]
  },
  {
   "cell_type": "code",
   "execution_count": 27,
   "metadata": {},
   "outputs": [],
   "source": [
    "### Creating a vertical box to store all of the text boxes into a single object \n",
    "menu1 = widgets.VBox([name, subsets, exploratory_var, order])"
   ]
  },
  {
   "cell_type": "code",
   "execution_count": 28,
   "metadata": {
    "scrolled": true
   },
   "outputs": [],
   "source": [
    "### Updating the number of accordion pages based on the value selected in the slider above, then prints it\n",
    "def graph_vars_amr(exp_graph_var):\n",
    "    list_widgets_a = []\n",
    "    \n",
    "    # This creates all the new variables to store the text boxes in\n",
    "    for i in range(exp_graph_var):\n",
    "        \n",
    "        name_box = \"global name_a{}; name_a{} = widgets.Text(placeholder='name',layout=Layout(width='70%'))\".format(i,i)\n",
    "        subset_box = \"global subset_a{}; subset_a{} = widgets.Text(placeholder='Subset',layout=Layout(width='70%'))\".format(i,i)\n",
    "        exp_box = \"global exploratory_a{}; exploratory_a{} = widgets.Text(placeholder='Exploratory Variable',layout=Layout(width='70%'))\".format(i,i)\n",
    "        order_box = \"global order_a{}; order_a{} = widgets.Text(placeholder='Order',layout=Layout(width='70%'))\".format(i,i)\n",
    "        exec(name_box)\n",
    "        exec(subset_box)\n",
    "        exec(exp_box)\n",
    "        exec(order_box)\n",
    "             \n",
    "    \n",
    "    # This will assign a new menu_ variable for each accordion that needs to be printed\n",
    "    for i in range(exp_graph_var):\n",
    "        string = \"menu_a{} = widgets.VBox([name_a{}, subset_a{}, exploratory_a{}, order_a{}])\".format(i, i, i, i, i)\n",
    "        exec(string)\n",
    "\n",
    "    \n",
    "    # This should append all the menu variables into the list_widgest list and pass it into the accordion widget\n",
    "    for i in range(0, exp_graph_var):\n",
    "        string = \"list_widgets_a.append(menu_a{})\".format(i)\n",
    "        exec(string)\n",
    "    \n",
    "    # Creates and displays the final accordion widget\n",
    "    accordion_a = widgets.Accordion(children=list_widgets_a)\n",
    "    return accordion_a\n",
    "\n",
    "\n",
    "def graph_vars_mic(exp_graph_var):\n",
    "    list_widgets_m = []\n",
    "    # This creates all the new variables to store the text boxes in\n",
    "    for i in range(exp_graph_var):\n",
    "        \n",
    "        name_box_m = \"global name_m{}; name_m{} = widgets.Text(placeholder='name',layout=Layout(width='70%'))\".format(i,i)\n",
    "        subset_box_m = \"global subset_m{}; subset_m{} = widgets.Text(placeholder='Subset',layout=Layout(width='70%'))\".format(i,i)\n",
    "        exp_box_m = \"global exploratory_m{}; exploratory_m{} = widgets.Text(placeholder='Exploratory Variable',layout=Layout(width='70%'))\".format(i,i)\n",
    "        order_box_m = \"global order_m{}; order_m{} = widgets.Text(placeholder='Order',layout=Layout(width='70%'))\".format(i,i)\n",
    "        exec(name_box_m)\n",
    "        exec(subset_box_m)\n",
    "        exec(exp_box_m)\n",
    "        exec(order_box_m)\n",
    "             \n",
    "    \n",
    "    # This will assign a new menu_ variable for each accordion that needs to be printed\n",
    "    for i in range(exp_graph_var):\n",
    "        string = \"menu_m{} = widgets.VBox([name_m{}, subset_m{}, exploratory_m{}, order_m{}])\".format(i, i, i, i, i)\n",
    "        exec(string)\n",
    "    \n",
    "    # This should append all the menu variables into the list_widgest list and pass it into the accordion widget\n",
    "    for i in range(0, exp_graph_var):\n",
    "        string = \"list_widgets_m.append(menu_m{})\".format(i)\n",
    "        exec(string)\n",
    "    \n",
    "    # Creates and displays the final accordion widget\n",
    "    accordion_m = widgets.Accordion(children=list_widgets_m)\n",
    "    return accordion_m\n"
   ]
  },
  {
   "cell_type": "code",
   "execution_count": 29,
   "metadata": {},
   "outputs": [],
   "source": [
    "## Store all the variables in amr_exp in order to be written out to a csv file\n",
    "global list_vals_a\n",
    "global list_vals_m\n",
    "list_vals_a = []\n",
    "list_vals_m = []\n",
    "\n",
    "def save_print_variables(amr, mic):\n",
    "    list_vals_a = []\n",
    "    list_vals_m = []\n",
    "    \n",
    "    exp = [\"_a\", \"_m\"]\n",
    "    num = [amr, mic]\n",
    "    \n",
    "    for i in range(2):\n",
    "        for j in range(num[i]):\n",
    "            analysis = exp[i]\n",
    "            exec(\"order_new{}{} = order_format(order{}{}.value)\".format(analysis, j, analysis, j))\n",
    "            exec(\"subset_new{}{} = subset_format(subset{}{}.value)\".format(analysis, j, analysis, j))\n",
    "            string = 'list_vals{}.append([name{}{}.value, subset_new{}{}, exploratory{}{}.value, order_new{}{}])'.format(analysis, analysis, j, analysis, j, analysis, j, analysis, j)\n",
    "            exec(string)\n",
    "\n",
    "    #print(list_vals_a)\n",
    "    #print(\"\")\n",
    "    #print(list_vals_m)\n",
    "    \n",
    "    return list_vals_a, list_vals_m"
   ]
  },
  {
   "cell_type": "code",
   "execution_count": null,
   "metadata": {},
   "outputs": [],
   "source": [
    "## Create the tabs to enter in variable data.\n",
    "def var_info(amr, mic):\n",
    "    tab = widgets.Tab()\n",
    "    if mic == 0:\n",
    "        tab_contents = [\"AMR\"]\n",
    "        children = [graph_vars_amr(amr)]\n",
    "        tab.set_title(0, \"AMR\")\n",
    "    elif amr == 0:\n",
    "        tab_contents = [\"Microbiome\"]\n",
    "        children = [graph_vars_mic(mic)]\n",
    "        tab.set_title(0, \"Microbiome\")\n",
    "    else: \n",
    "        tab_contents = [\"AMR\", \"Microbiome\"]\n",
    "        children = [graph_vars_amr(amr), graph_vars_mic(mic)]\n",
    "        tab.set_title(0, \"AMR\")\n",
    "        tab.set_title(1, \"Microbiome\")\n",
    "    \n",
    "    tab.children = children\n",
    "    tab.titles = tab_contents\n",
    "    return tab"
   ]
  },
  {
   "cell_type": "code",
   "execution_count": 37,
   "metadata": {},
   "outputs": [
    {
     "data": {
      "text/plain": [
       "\"list('Blinded_Store == Store6','Blinded_Store == Store5')\""
      ]
     },
     "execution_count": 37,
     "metadata": {},
     "output_type": "execute_result"
    }
   ],
   "source": [
    "# Reformats the order variable\n",
    "def order_format(order_og):\n",
    "    # Splits the text into the different items in the list\n",
    "    order_list = order_og.split(\",\")\n",
    "    \n",
    "    # Removes the white spaces before and after each item\n",
    "    order_list = [item.strip() for item in order_list]\n",
    "\n",
    "    # Adds the quotation marks around each item\n",
    "    order_list = ['\"' + item + '\"' for item in order_list]\n",
    "    \n",
    "    # Removing unnecessary characters from string\n",
    "    order_list = 'c({})'.format(order_list)\n",
    "    order_list = order_list.replace(\"[\", \"\")\n",
    "    order_list = order_list.replace(\"]\", \"\")\n",
    "    order_list = order_list.replace(\"'\", \"\")\n",
    "    order_list = order_list.replace(\", \", \",\")\n",
    "    \n",
    "    if order_og == \"\":\n",
    "        order_list = \"\"\n",
    "    \n",
    "    return order_list\n",
    "\n",
    "# Reformats the subset variable\n",
    "def subset_format(subset_og):\n",
    "    # Splits the text into the different items in the list\n",
    "    order_list = subset_og.split(\",\")\n",
    "    \n",
    "    # Removes the white spaces before and after each item\n",
    "    order_list = [item.strip() for item in order_list]\n",
    "\n",
    "    # Adds the quotation marks around each item\n",
    "    order_list = [\"'\" + item + \"'\" for item in order_list]\n",
    "    \n",
    "    # Removing unnecessary characters from string\n",
    "    order_list = 'list({})'.format(order_list)\n",
    "    order_list = order_list.replace(\"[\", \"\")\n",
    "    order_list = order_list.replace(\"]\", \"\")\n",
    "    order_list = order_list.replace('\"', \"\")\n",
    "    order_list = order_list.replace(\", \", \",\")\n",
    "    \n",
    "    if subset_og == \"\":\n",
    "        order_list = \"\"\n",
    "    \n",
    "    \n",
    "    return order_list\n"
   ]
  },
  {
   "cell_type": "code",
   "execution_count": 10,
   "metadata": {},
   "outputs": [],
   "source": [
    "# Function to save all variables into .csv file\n",
    "def vars_to_csv(b):\n",
    "    with open('metagenome_analysis_vars.csv','w', newline='') as f:  \n",
    "        writer = csv.writer(f)\n",
    "        # Column names\n",
    "        writer.writerow(['sample_column_id', sample_column_id.value])\n",
    "        writer.writerow(['graph_output_dir', graph_output_dir.value])\n",
    "        writer.writerow(['stats_output_dir', stats_output_dir.value])\n",
    "\n",
    "        # Filepaths\n",
    "        writer.writerow(['amr_count_matrix_filepath', amr_count_matrix_filepath])\n",
    "        writer.writerow(['amr_metadata_filepath', amr_metadata_filepath])\n",
    "        writer.writerow(['megares_annotation_filename', megares_annotation_filename])\n",
    "        writer.writerow(['biom_file', biom_file])\n",
    "        writer.writerow(['tre_file', tre_file])\n",
    "        writer.writerow(['tax_fasta', tax_fasta])\n",
    "        writer.writerow(['taxa_file', taxa_file])\n",
    "        writer.writerow(['microbiome_temp_metadata_file', microbiome_temp_metadata_file])\n",
    "\n",
    "        # AMR exploratory variables\n",
    "        writer.writerow([\"AMR_exploratory_analyses\"])\n",
    "        writer.writerows(list_vals_a)\n",
    "\n",
    "        # Microbiome exploratory variables\n",
    "        writer.writerow([\"microbiome_exploratory_analyses\"])\n",
    "        writer.writerows(list_vals_m)\n",
    "    print(\"Variables Exported. Check directory for .csv file\")"
   ]
  },
  {
   "cell_type": "code",
   "execution_count": 11,
   "metadata": {},
   "outputs": [],
   "source": [
    "vars_save_button = widgets.Button(\n",
    "    description=\"Save variables for analysis script\", \n",
    "    icon = 'save',\n",
    "    layout=Layout(width='50%'))\n",
    "\n",
    "vars_save_button.on_click(vars_to_csv)"
   ]
  },
  {
   "cell_type": "code",
   "execution_count": 14,
   "metadata": {},
   "outputs": [],
   "source": []
  }
 ],
 "metadata": {
  "kernelspec": {
   "display_name": "Python 3",
   "language": "python",
   "name": "python3"
  },
  "language_info": {
   "codemirror_mode": {
    "name": "ipython",
    "version": 3
   },
   "file_extension": ".py",
   "mimetype": "text/x-python",
   "name": "python",
   "nbconvert_exporter": "python",
   "pygments_lexer": "ipython3",
   "version": "3.7.6"
  }
 },
 "nbformat": 4,
 "nbformat_minor": 4
}
