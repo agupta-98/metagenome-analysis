{
 "cells": [
  {
   "cell_type": "markdown",
   "metadata": {},
   "source": [
    "# Information Entry Script for Metagenomic Analysis\n",
    "This script allows you to enter in information into the Jupyter_metagenomic_analysis.ipynb file. This script will prompt you to enter in relevant information as well as locate necessary files for the analysis, and this information will be stored into a .csv file that can be read in by the Jupyter_metagenomic_analysis.ipynb file. For output verification, you can open this .csv file (named --.csv) to ensure the information looks correct before running the analysis script. \n",
    "\n",
    "When running this script, run all of the cells sequentially one after another after you are done editing the cell preceding it. This will ensure the script runs smoothly."
   ]
  },
  {
   "cell_type": "markdown",
   "metadata": {},
   "source": [
    "For questions about this script, please contact Akhil Gupta (gupta305@umn.edu). "
   ]
  },
  {
   "cell_type": "markdown",
   "metadata": {},
   "source": [
    "---"
   ]
  },
  {
   "cell_type": "markdown",
   "metadata": {},
   "source": [
    "## Import UI Elements Script\n",
    "This will load in all necessary widgets. Ignore the warning message for now"
   ]
  },
  {
   "cell_type": "code",
   "execution_count": 1,
   "metadata": {},
   "outputs": [],
   "source": [
    "# Importing necessary functions from another .ipynb script\n",
    "%run ui_elem_V2.ipynb"
   ]
  },
  {
   "cell_type": "markdown",
   "metadata": {},
   "source": [
    "----------------"
   ]
  },
  {
   "cell_type": "markdown",
   "metadata": {},
   "source": [
    "## Text Entry\n",
    "Here you should specify the column name (needs a better description) as well as give a name for the folder where the graphs and statistics should be stored. "
   ]
  },
  {
   "cell_type": "code",
   "execution_count": 2,
   "metadata": {},
   "outputs": [
    {
     "data": {
      "application/vnd.jupyter.widget-view+json": {
       "model_id": "8000dd97a0604a6c8d460513eb3b903f",
       "version_major": 2,
       "version_minor": 0
      },
      "text/plain": [
       "VBox(children=(Text(value='ID', description='Column Name:', layout=Layout(width='70%'), placeholder='What is t…"
      ]
     },
     "metadata": {},
     "output_type": "display_data"
    }
   ],
   "source": [
    "direct_name_data"
   ]
  },
  {
   "cell_type": "code",
   "execution_count": 3,
   "metadata": {},
   "outputs": [
    {
     "name": "stdout",
     "output_type": "stream",
     "text": [
      "Sample column ID: ID\n",
      "Graph Output Directory Name: graphs\n",
      "Stats Output Directory Name: stats\n"
     ]
    }
   ],
   "source": [
    "# Test to see if the value in the text boxes are saved\n",
    "print(\"Sample column ID: \" + sample_column_id.value)\n",
    "print(\"Graph Output Directory Name: \" + graph_output_dir.value)\n",
    "print(\"Stats Output Directory Name: \" + stats_output_dir.value)"
   ]
  },
  {
   "cell_type": "markdown",
   "metadata": {},
   "source": [
    "--------------------------------------------------"
   ]
  },
  {
   "cell_type": "markdown",
   "metadata": {},
   "source": [
    "## File Paths\n",
    "\n",
    "Prior to running this portion of the script, be sure that all the files that will be used for analysis are uploaded to the data folder in the file directory where this script was opened from. Open the directory named \"data\", and upload all files that will be necessary to run the analysis. All the scripts that are required for the analysis are listed below. \n",
    "\n",
    "Once the files have been uploaded, click on the circulary icon in the top left of the screen to restart the python kernal - Jupyter doesn't update the list below while the kernel is running, you will instead have to restart the kernel. Once restarted, the file should appear in the drop down menu below, where you can then select the corresponding file. The current placeholders will work just fine if you don't have a certain file on hand. \n",
    "\n",
    "__*This section needs more work in terms of descriptions*__"
   ]
  },
  {
   "cell_type": "markdown",
   "metadata": {},
   "source": [
    "#### Loading in resistome files"
   ]
  },
  {
   "cell_type": "code",
   "execution_count": 2,
   "metadata": {},
   "outputs": [
    {
     "data": {
      "application/vnd.jupyter.widget-view+json": {
       "model_id": "0c9744a31d6b4f078dc2c502303cd49f",
       "version_major": 2,
       "version_minor": 0
      },
      "text/plain": [
       "VBox(children=(Dropdown(description='AMR Count Matrix File:', layout=Layout(width='50%'), options=('strict_SNP…"
      ]
     },
     "metadata": {},
     "output_type": "display_data"
    }
   ],
   "source": [
    "resistome_filenames"
   ]
  },
  {
   "cell_type": "markdown",
   "metadata": {},
   "source": [
    "#### Loading in microbiome files"
   ]
  },
  {
   "cell_type": "code",
   "execution_count": 5,
   "metadata": {
    "scrolled": true
   },
   "outputs": [
    {
     "data": {
      "application/vnd.jupyter.widget-view+json": {
       "model_id": "c82d960445df482fb6ecc97906817d93",
       "version_major": 2,
       "version_minor": 0
      },
      "text/plain": [
       "VBox(children=(Dropdown(description='Biom File:', index=5, layout=Layout(width='50%'), options=('strict_SNP_co…"
      ]
     },
     "metadata": {},
     "output_type": "display_data"
    }
   ],
   "source": [
    "microbiome_filenames"
   ]
  },
  {
   "cell_type": "markdown",
   "metadata": {},
   "source": [
    "#### Save the file names\n",
    "This will also print the output so you can double check its accuracy"
   ]
  },
  {
   "cell_type": "code",
   "execution_count": 6,
   "metadata": {},
   "outputs": [
    {
     "data": {
      "application/vnd.jupyter.widget-view+json": {
       "model_id": "4bcdc61e542545519c081a565c30a3c6",
       "version_major": 2,
       "version_minor": 0
      },
      "text/plain": [
       "Button(description='Save the filepaths for analysis', icon='save', layout=Layout(width='70%'), style=ButtonSty…"
      ]
     },
     "metadata": {},
     "output_type": "display_data"
    },
    {
     "name": "stdout",
     "output_type": "stream",
     "text": [
      "AMR Count Matrix Filepath: saved-output.txt\n",
      "AMR Metadata Filepath: FC_meat_AMR_metadata.csv\n",
      "MEGARes Annotation Filepath: megares_annotations_v1.03.csv\n",
      "Biom Filepath: otu_table_json.biom\n",
      "Fasta Filepath: tree.nwk\n",
      "Taxonomy Filepath: taxonomy.tsv\n",
      "Microbiome Temp Metadata Filepath: saved-output.txt\n",
      "\n",
      "All filepaths saved\n"
     ]
    }
   ],
   "source": [
    "save_filepath_button"
   ]
  },
  {
   "cell_type": "markdown",
   "metadata": {},
   "source": [
    "---"
   ]
  },
  {
   "cell_type": "markdown",
   "metadata": {},
   "source": [
    "## Exploratory Variables\n",
    "The following will allow you to enter in variables for the analyses. It's based on variables in your metadata.csv file that you want to use for EXPLORATORY analysis (NMDS, PCA, alpha rarefaction, barplots)"
   ]
  },
  {
   "cell_type": "markdown",
   "metadata": {},
   "source": [
    "### Sliders\n",
    "The slider allows you to choose how many separate analyses should be run, and how many of them should be AMR analyses and how many should be Microbiome. \n",
    "\n",
    "\n",
    "### Explanatory Variables\n",
    "Every time the slider value is changed, the code to generate the boxes should be rerun in order to update them. They will automatically contain the correct number of boxes based on the values entered in the slider. \n",
    "\n",
    "**Name**: \n",
    "\n",
    "**Subset**: Subset will allow you to filter out variables of interest and remove unnecessary variables. To select variables of interest, the format should be “*column-2 == column-variable-1*”. This is exactly how you might enter this into R. \n",
    "\n",
    "To remove certain variables from the analysis, the format should be “*column_2 != column_variable_2*”. The key point is having the *!* symbol instead of the first exclamation point.\n",
    "\n",
    "**Explanatory Variable**: This should also be the name of a column of interest for analysis. \n",
    "\n",
    "*NOTE*: Exploratory variables cannot be numeric. \n",
    "\n",
    "**Order**: This should describe the order that will be used during the analysis and when printing out result plots. *Each item in the list should be separated by a comma.*"
   ]
  },
  {
   "cell_type": "code",
   "execution_count": 7,
   "metadata": {},
   "outputs": [
    {
     "data": {
      "application/vnd.jupyter.widget-view+json": {
       "model_id": "ab5ad8de75eb4ab0a3f4278a96a5af2d",
       "version_major": 2,
       "version_minor": 0
      },
      "text/plain": [
       "IntSlider(value=5, continuous_update=False, description='AMR', max=10)"
      ]
     },
     "metadata": {},
     "output_type": "display_data"
    },
    {
     "data": {
      "application/vnd.jupyter.widget-view+json": {
       "model_id": "095f951230264d85b0d367fae54036f8",
       "version_major": 2,
       "version_minor": 0
      },
      "text/plain": [
       "IntSlider(value=5, continuous_update=False, description='Microbiome', max=10)"
      ]
     },
     "metadata": {},
     "output_type": "display_data"
    }
   ],
   "source": [
    "display(exp_graph_var_amr)\n",
    "display(exp_graph_var_microbiome)"
   ]
  },
  {
   "cell_type": "code",
   "execution_count": 8,
   "metadata": {
    "scrolled": false
   },
   "outputs": [
    {
     "data": {
      "application/vnd.jupyter.widget-view+json": {
       "model_id": "87b5fb9447274cd7aedf23122e381de0",
       "version_major": 2,
       "version_minor": 0
      },
      "text/plain": [
       "Tab(children=(Accordion(children=(VBox(children=(Text(value='', layout=Layout(width='70%'), placeholder='name'…"
      ]
     },
     "metadata": {},
     "output_type": "display_data"
    }
   ],
   "source": [
    "var_info(exp_graph_var_amr.value, exp_graph_var_microbiome.value)"
   ]
  },
  {
   "cell_type": "markdown",
   "metadata": {},
   "source": [
    "--------"
   ]
  },
  {
   "cell_type": "markdown",
   "metadata": {},
   "source": [
    "## IMPORTANT STEP\n",
    "Make sure to run the code below once you have finished entering the data into the boxes above. This will ensure that the data is stored correctly and will be output into the .csv file. "
   ]
  },
  {
   "cell_type": "code",
   "execution_count": 9,
   "metadata": {},
   "outputs": [],
   "source": [
    "# Saves and prints the variables entered above into a list to be used when creating the .csv file\n",
    "list_vals_a, list_vals_m = save_print_variables(exp_graph_var_amr.value, exp_graph_var_microbiome.value)"
   ]
  },
  {
   "cell_type": "markdown",
   "metadata": {},
   "source": [
    "---"
   ]
  },
  {
   "cell_type": "markdown",
   "metadata": {},
   "source": [
    "## Outputting information into .csv file\n",
    "This below will now store everything entered above into a .csv file that can be read in by the analysis script. The .csv file will be stored in the current working directory where this script is also stored. If your analysis script is located in another directory, be sure to move the .csv file into that same directory before running that analysis script. "
   ]
  },
  {
   "cell_type": "code",
   "execution_count": 10,
   "metadata": {},
   "outputs": [
    {
     "data": {
      "application/vnd.jupyter.widget-view+json": {
       "model_id": "bfb424d1ba244deab831e36e69aff00f",
       "version_major": 2,
       "version_minor": 0
      },
      "text/plain": [
       "Button(description='Save variables for analysis script', icon='save', layout=Layout(width='50%'), style=Button…"
      ]
     },
     "metadata": {},
     "output_type": "display_data"
    },
    {
     "name": "stdout",
     "output_type": "stream",
     "text": [
      "Variables Exported. Check directory for .csv file\n"
     ]
    }
   ],
   "source": [
    "display(vars_save_button)\n",
    "vars_save_button.on_click(vars_to_csv)"
   ]
  },
  {
   "cell_type": "markdown",
   "metadata": {},
   "source": [
    "---"
   ]
  },
  {
   "cell_type": "markdown",
   "metadata": {},
   "source": [
    "# Next Steps\n",
    "\n",
    "The results from this script will be output in a .csv file that the R script will then use to run the rest of the analysis. You don't need to worry about the .csv file, all you need to do now is open the script named \"Jupyter_metagenomic_analysis.ipynb\" in the directory where this file was also located and run it. "
   ]
  }
 ],
 "metadata": {
  "kernelspec": {
   "display_name": "Python 3",
   "language": "python",
   "name": "python3"
  },
  "language_info": {
   "codemirror_mode": {
    "name": "ipython",
    "version": 3
   },
   "file_extension": ".py",
   "mimetype": "text/x-python",
   "name": "python",
   "nbconvert_exporter": "python",
   "pygments_lexer": "ipython3",
   "version": "3.7.6"
  }
 },
 "nbformat": 4,
 "nbformat_minor": 4
}
