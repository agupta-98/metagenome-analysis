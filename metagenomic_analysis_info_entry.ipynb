{
 "cells": [
  {
   "cell_type": "markdown",
   "metadata": {},
   "source": [
    "# Information Entry Script for Metagenomic Analysis\n",
    "This script allows you to enter in information into the Jupyter_metagenomic_analysis.ipynb file. This script will prompt you to enter in relevant information as well as locate necessary files for the analysis, and this information will be stored into a .csv file that can be read in by the Jupyter_metagenomic_analysis.ipynb file. For output verification, you can open this .csv file (named --.csv) to ensure the information looks correct before running the analysis script. \n",
    "\n",
    "When running this script, run all of the cells sequentially one after another after you are done editing the cell preceding it. This will ensure the script runs smoothly."
   ]
  },
  {
   "cell_type": "markdown",
   "metadata": {},
   "source": [
    "For questions about this script, please contact Akhil Gupta (gupta305@umn.edu). "
   ]
  },
  {
   "cell_type": "markdown",
   "metadata": {},
   "source": [
    "---"
   ]
  },
  {
   "cell_type": "markdown",
   "metadata": {},
   "source": [
    "## Import UI Elements Script\n",
    "This will load in all necessary widgets. Ignore the warning message for now"
   ]
  },
  {
   "cell_type": "code",
   "execution_count": 2,
   "metadata": {},
   "outputs": [],
   "source": [
    "# Importing necessary functions from another .ipynb script\n",
    "%run ui_elem.ipynb"
   ]
  },
  {
   "cell_type": "markdown",
   "metadata": {},
   "source": [
    "----------------"
   ]
  },
  {
   "cell_type": "markdown",
   "metadata": {},
   "source": [
    "## Text Entry\n",
    "Here you should specify the column name (needs a better description) as well as give a name for the folder where the graphs and statistics should be stored. "
   ]
  },
  {
   "cell_type": "code",
   "execution_count": 3,
   "metadata": {},
   "outputs": [
    {
     "data": {
      "application/vnd.jupyter.widget-view+json": {
       "model_id": "b82c4791f42b4ae99f97c4a0ab33b2c6",
       "version_major": 2,
       "version_minor": 0
      },
      "text/plain": [
       "VBox(children=(Text(value='ID', description='Column Name:', layout=Layout(width='70%'), placeholder='What is t…"
      ]
     },
     "metadata": {},
     "output_type": "display_data"
    }
   ],
   "source": [
    "direct_name_data"
   ]
  },
  {
   "cell_type": "code",
   "execution_count": 4,
   "metadata": {},
   "outputs": [
    {
     "name": "stdout",
     "output_type": "stream",
     "text": [
      "Sample column ID: ID\n",
      "Graph Output Directory Name: graphs\n",
      "Stats Output Directory Name: stats\n"
     ]
    }
   ],
   "source": [
    "# Test to see if the value in the text boxes are saved\n",
    "print(\"Sample column ID: \" + sample_column_id.value)\n",
    "print(\"Graph Output Directory Name: \" + graph_output_dir.value)\n",
    "print(\"Stats Output Directory Name: \" + stats_output_dir.value)"
   ]
  },
  {
   "cell_type": "markdown",
   "metadata": {},
   "source": [
    "--------------------------------------------------"
   ]
  },
  {
   "cell_type": "markdown",
   "metadata": {},
   "source": [
    "## File Paths\n",
    "\n",
    "\n",
    "Here you should load the files that will be used during the analysis. *This will load only load in the file path, not the actual file itself*. Each button will open a pop-up window that will prompt you to select a file using your operating system's default file explorer. Make sure to either 1) select a file or 2) close the file explorer window before pressing another below. If no files are given, a default file-path will be selected, which can be seen under these buttons.s\n",
    "\n",
    "The first set of buttons prompts you to enter in files for resistome analysis, and the second set prompts you to enter in microbiome datasets."
   ]
  },
  {
   "cell_type": "markdown",
   "metadata": {},
   "source": [
    "#### Loading in resistome files"
   ]
  },
  {
   "cell_type": "code",
   "execution_count": 5,
   "metadata": {},
   "outputs": [
    {
     "data": {
      "application/vnd.jupyter.widget-view+json": {
       "model_id": "d1ba47756ff8450c8a423467ef086b92",
       "version_major": 2,
       "version_minor": 0
      },
      "text/plain": [
       "VBox(children=(Button(description='Load the data, MEGARes annotations, and metadata', icon='upload', layout=La…"
      ]
     },
     "metadata": {},
     "output_type": "display_data"
    }
   ],
   "source": [
    "file_path_buttons_resistomes"
   ]
  },
  {
   "cell_type": "markdown",
   "metadata": {},
   "source": [
    "#### Loading in microbiome files"
   ]
  },
  {
   "cell_type": "code",
   "execution_count": 6,
   "metadata": {},
   "outputs": [
    {
     "data": {
      "application/vnd.jupyter.widget-view+json": {
       "model_id": "56472e629c2c4a6ca59e0fc5b75156f6",
       "version_major": 2,
       "version_minor": 0
      },
      "text/plain": [
       "VBox(children=(Button(description='Load the .biom file', icon='upload', layout=Layout(width='100%'), style=But…"
      ]
     },
     "metadata": {},
     "output_type": "display_data"
    }
   ],
   "source": [
    "file_path_buttons_microbiome"
   ]
  },
  {
   "cell_type": "markdown",
   "metadata": {},
   "source": [
    "#### Showing the final file paths. The paths can be changed by selecting a different file path above"
   ]
  },
  {
   "cell_type": "code",
   "execution_count": 7,
   "metadata": {},
   "outputs": [
    {
     "name": "stdout",
     "output_type": "stream",
     "text": [
      "AMR Count Matrix: data/test_data/strict_SNP_confirmed_AMR_analytic_matrix.csv\n",
      "AMR Metadata: data/test_data/FC_meat_AMR_metadata.csv\n",
      "Megares Annotation: data/amr/megares_annotations_v1.03.csv\n",
      ".biom File: data/test_data/exported-biom-table/otu_table_json.biom\n",
      "tre File: data/test_data/exported-tree/tree.nwk\n",
      "tax fasta File: data/test_data/exported-rep-seqs/dna-sequences.fasta\n",
      "Taxa File: data/test_data/exported-biom-table-taxa/taxonomy.tsv\n",
      "Microbiome Temp Metadata File: data/test_data/FC_meat_metadata.csv\n"
     ]
    }
   ],
   "source": [
    "### Print the file paths entered. If no file path was entered, the default file path will be returned.\n",
    "### Here you should be able to see the final file paths that will be used. \n",
    "view_filepaths(amr_count_matrix_filepath,\n",
    "              amr_metadata_filepath,\n",
    "              megares_annotation_filename,\n",
    "              biom_file,\n",
    "              tre_file,\n",
    "              tax_fasta,\n",
    "              taxa_file,\n",
    "              microbiome_temp_metadata_file)\n",
    "\n",
    "# The output should be made much neater than this\n",
    "\n",
    "# Assign these variables to be global variables first, then they don't need to be passed into the function\n",
    "# like this and can still be printed. "
   ]
  },
  {
   "cell_type": "markdown",
   "metadata": {},
   "source": [
    "---"
   ]
  },
  {
   "cell_type": "markdown",
   "metadata": {},
   "source": [
    "## Exploratory Variables\n",
    "The following will allow you to enter in variables for the analyses. It's based on variables in your metadata.csv file that you want to use for EXPLORATORY analysis (NMDS, PCA, alpha rarefaction, barplots)"
   ]
  },
  {
   "cell_type": "markdown",
   "metadata": {},
   "source": [
    "### Sliders\n",
    "The slider allows you to choose how many separate analyses should be run, and how many of them should be AMR analyses and how many should be Microbiome. \n",
    "\n",
    "\n",
    "### Explanatory Variables\n",
    "Every time the slider value is changed, the code to generate the boxes should be rerun in order to update them. They will automatically contain the correct number of boxes based on the values entered in the slider. \n",
    "\n",
    "**Name**: \n",
    "\n",
    "**Subset**: Subset will allow you to filter out variables of interest and remove unnecessary variables. To select variables of interest, the format should be “*column-2 == column-variable-1*”. This is exactly how you might enter this into R. \n",
    "\n",
    "To remove certain variables from the analysis, the format should be “*column_2 != column_variable_2*”. The key point is having the *!* symbol instead of the first exclamation point.\n",
    "\n",
    "**Explanatory Variable**: This should also be the name of a column of interest for analysis. \n",
    "\n",
    "*NOTE*: Exploratory variables cannot be numeric. \n",
    "\n",
    "**Order**: This should describe the order that will be used during the analysis and when printing out result plots. *Each item in the list should be separated by a comma.*"
   ]
  },
  {
   "cell_type": "code",
   "execution_count": 8,
   "metadata": {},
   "outputs": [
    {
     "data": {
      "application/vnd.jupyter.widget-view+json": {
       "model_id": "bddc23757ad742989074c3d004c23d16",
       "version_major": 2,
       "version_minor": 0
      },
      "text/plain": [
       "IntSlider(value=5, continuous_update=False, description='AMR', max=10)"
      ]
     },
     "metadata": {},
     "output_type": "display_data"
    },
    {
     "data": {
      "application/vnd.jupyter.widget-view+json": {
       "model_id": "0c3390f10aa24832b9c1f6f9eb762054",
       "version_major": 2,
       "version_minor": 0
      },
      "text/plain": [
       "IntSlider(value=5, continuous_update=False, description='Microbiome', max=10)"
      ]
     },
     "metadata": {},
     "output_type": "display_data"
    }
   ],
   "source": [
    "display(exp_graph_var_amr)\n",
    "display(exp_graph_var_microbiome)"
   ]
  },
  {
   "cell_type": "code",
   "execution_count": 9,
   "metadata": {
    "scrolled": false
   },
   "outputs": [
    {
     "data": {
      "application/vnd.jupyter.widget-view+json": {
       "model_id": "86f44ce6806c4a23a1aa9da33b2cb849",
       "version_major": 2,
       "version_minor": 0
      },
      "text/plain": [
       "Tab(children=(Accordion(children=(VBox(children=(Text(value='', layout=Layout(width='70%'), placeholder='name'…"
      ]
     },
     "metadata": {},
     "output_type": "display_data"
    }
   ],
   "source": [
    "var_info(exp_graph_var_amr.value, exp_graph_var_microbiome.value)"
   ]
  },
  {
   "cell_type": "code",
   "execution_count": 45,
   "metadata": {},
   "outputs": [
    {
     "name": "stdout",
     "output_type": "stream",
     "text": [
      "three\n"
     ]
    }
   ],
   "source": [
    "print(name_a3.value)"
   ]
  },
  {
   "cell_type": "code",
   "execution_count": 49,
   "metadata": {},
   "outputs": [
    {
     "name": "stdout",
     "output_type": "stream",
     "text": [
      "['zero', '', '', '']\n",
      "['one', '', '', '']\n",
      "['two', '', '', '']\n",
      "['three', '', '', '']\n",
      "['four', '', '', '']\n",
      "\n",
      "[['zero', '', '', ''], ['one', '', '', ''], ['two', '', '', ''], ['three', '', '', ''], ['four', '', '', '']]\n"
     ]
    }
   ],
   "source": [
    "list_vals_a = []\n",
    "\n",
    "for i in range(exp_graph_var_amr.value):\n",
    "    string = 'temp_list = [name_a{}.value, subset_a{}.value, exploratory_a{}.value, order_a{}.value]'.format(i,i,i,i)\n",
    "    # print(string)\n",
    "    exec(string)\n",
    "    list_vals_a.append(temp_list)\n",
    "    print(temp_list)\n",
    "\n",
    "\n",
    "print()\n",
    "print(list_vals_a)"
   ]
  },
  {
   "cell_type": "markdown",
   "metadata": {},
   "source": [
    "## IMPORTANT STEP\n",
    "Make sure to run the code below once you have finished entering the data into the boxes above. This will ensure that the data is stored correctly and will be output into the .csv file. "
   ]
  },
  {
   "cell_type": "code",
   "execution_count": 39,
   "metadata": {},
   "outputs": [],
   "source": [
    "# Saves and prints the variables entered above into a list to be used when \n",
    "# creating the .csv file\n",
    "list_vals_a, list_vals_m = save_print_variables(exp_graph_var_amr.value, exp_graph_var_microbiome.value)\n",
    "\n",
    "# This should be made to look cleaner later\n",
    "# This can also be integrated into a button probably"
   ]
  },
  {
   "cell_type": "code",
   "execution_count": 40,
   "metadata": {},
   "outputs": [
    {
     "data": {
      "text/plain": [
       "[['zero', \"list('')\", '', 'c(\"\")'],\n",
       " ['one', \"list('')\", '', 'c(\"\")'],\n",
       " ['two', \"list('')\", '', 'c(\"\")'],\n",
       " ['three', \"list('')\", '', 'c(\"\")'],\n",
       " ['four', \"list('')\", '', 'c(\"\")']]"
      ]
     },
     "execution_count": 40,
     "metadata": {},
     "output_type": "execute_result"
    }
   ],
   "source": [
    "list_vals_a"
   ]
  },
  {
   "cell_type": "code",
   "execution_count": 41,
   "metadata": {
    "scrolled": true
   },
   "outputs": [
    {
     "data": {
      "text/plain": [
       "[['name0', \"list('sub')\", '', 'c(\"\")'],\n",
       " ['name1', \"list('')\", '', 'c(\"\")'],\n",
       " ['name2', \"list('')\", '', 'c(\"\")'],\n",
       " ['name3', \"list('')\", '', 'c(\"\")'],\n",
       " ['name4', \"list('')\", '', 'c(\"\")']]"
      ]
     },
     "execution_count": 41,
     "metadata": {},
     "output_type": "execute_result"
    }
   ],
   "source": [
    "list_vals_m"
   ]
  },
  {
   "cell_type": "code",
   "execution_count": null,
   "metadata": {},
   "outputs": [],
   "source": []
  },
  {
   "cell_type": "code",
   "execution_count": null,
   "metadata": {},
   "outputs": [],
   "source": [
    "global list_vals_a\n",
    "global list_vals_m\n",
    "list_vals_a = []\n",
    "list_vals_m = []\n",
    "\n",
    "def save_print_variables(amr, mic):\n",
    "    list_vals_a = []\n",
    "    list_vals_m = []\n",
    "    exp = [\"_a\", \"_m\"]\n",
    "    num = [amr, mic]\n",
    "    \n",
    "    for i in range(2):\n",
    "        for j in range(num[i]):\n",
    "            analysis = exp[i]\n",
    "            exec(\"order_new{}{} = order_format(order{}{}.value)\".format(analysis, j, analysis, j))\n",
    "            exec(\"subset_new{}{} = subset_format(subset{}{}.value)\".format(analysis, j, analysis, j))\n",
    "            string = 'list_vals{}.append([name{}{}.value, subset_new{}{}, exploratory{}{}.value, order_new{}{}])'.format(analysis, analysis, j, analysis, j, analysis, j, analysis, j)\n",
    "            exec(string)\n",
    "    \n",
    "    #print(list_vals_a)\n",
    "    #print(\"\")\n",
    "    #print(list_vals_m)\n",
    "    \n",
    "    return list_vals_a, list_vals_m"
   ]
  },
  {
   "cell_type": "markdown",
   "metadata": {},
   "source": [
    "---"
   ]
  },
  {
   "cell_type": "markdown",
   "metadata": {},
   "source": [
    "## Outputting information into .csv file\n",
    "This below will now store everything entered above into a .csv file that can be read in by the analysis script. The .csv file will be stored in the current working directory where this script is also stored. If your analysis script is located in another directory, be sure to move the .csv file into that same directory before running that analysis script. "
   ]
  },
  {
   "cell_type": "code",
   "execution_count": 30,
   "metadata": {},
   "outputs": [
    {
     "data": {
      "application/vnd.jupyter.widget-view+json": {
       "model_id": "98540895b807452a9ece0fb8e0d922bd",
       "version_major": 2,
       "version_minor": 0
      },
      "text/plain": [
       "Button(description='Save variables for analysis script', icon='save', layout=Layout(width='50%'), style=Button…"
      ]
     },
     "metadata": {},
     "output_type": "display_data"
    },
    {
     "name": "stdout",
     "output_type": "stream",
     "text": [
      "Variables Exported. Check directory for .csv file\n"
     ]
    }
   ],
   "source": [
    "display(vars_save_button)\n",
    "vars_save_button.on_click(vars_to_csv)"
   ]
  },
  {
   "cell_type": "markdown",
   "metadata": {},
   "source": [
    "---"
   ]
  },
  {
   "cell_type": "markdown",
   "metadata": {},
   "source": [
    "# Integrated Analysis Script (in R)\n",
    "The following is the analysis script using R integrated into the same jupyter notebook using R Magic."
   ]
  },
  {
   "cell_type": "code",
   "execution_count": 50,
   "metadata": {},
   "outputs": [
    {
     "name": "stderr",
     "output_type": "stream",
     "text": [
      "/Users/akhilgupta/opt/anaconda3/envs/r_environment/lib/python3.7/site-packages/rpy2/robjects/pandas2ri.py:17: FutureWarning: pandas.core.index is deprecated and will be removed in a future version.  The public classes are available in the top-level namespace.\n",
      "  from pandas.core.index import Index as PandasIndex\n"
     ]
    }
   ],
   "source": [
    "%load_ext rpy2.ipython"
   ]
  },
  {
   "cell_type": "code",
   "execution_count": 51,
   "metadata": {},
   "outputs": [],
   "source": [
    "%%R\n",
    "\n",
    "# Loading in data for use in the analysis script from the .csv file generated above\n",
    "file <- read.csv(paste(getwd(), \"/metagenome_analysis_vars.csv\", sep = \"\"),\n",
    "                 colClasses = \"character\",\n",
    "                 header = FALSE,\n",
    "                 col.names = c(\"V1\", \"V2\", \"V3\",\"V4\"))\n",
    "\n",
    "sample_column_id              <- file[1,2]\n",
    "graph_output_dir              <- file[2,2]\n",
    "stats_output_dir              <- file[3,2]\n",
    "amr_count_matrix_filepath     <- file[4,2]\n",
    "amr_metadata_filepath         <- file[5,2]\n",
    "megares_annotation_filename   <- file[6,2]\n",
    "biom_file                     <- file[7,2]\n",
    "tre_file                      <- file[8,2]\n",
    "tax_fasta                     <- file[9,2]\n",
    "taxa_file                     <- file[10,2]\n",
    "microbiome_temp_metadata_file <- file[11,2]\n",
    "\n",
    "# Creates a list of all the AMR variables, and is dependent on the number inputed in the previous script\n",
    "AMR_exploratory_analyses <- list()\n",
    "for (i in 1:(which(file$V1 == \"microbiome_exploratory_analyses\") - 13)){\n",
    "  subset_list = eval(parse(text=file[(12+i),2]))\n",
    "  AMR_exploratory_analyses <- append(AMR_exploratory_analyses, \n",
    "                                     list(list(name = file[(12+i),1],\n",
    "                                               subset = subset_list,\n",
    "                                               exploratory_var = file[(12+i),3],\n",
    "                                               order = file[(12+i),4])))\n",
    "}\n",
    "\n",
    "\n",
    "y <- which(file$V1 == \"microbiome_exploratory_analyses\")\n",
    "microbiome_exploratory_analyses <- list()\n",
    "for (i in 1:(nrow(file) - y)){\n",
    "  subset_list = eval(parse(text=file[(y+i),2]))\n",
    "  microbiome_exploratory_analyses <- append(microbiome_exploratory_analyses, \n",
    "                                     list(list(name = file[(y+i),1],\n",
    "                                               subset = subset_list,\n",
    "                                               exploratory_var = file[(y+i),3],\n",
    "                                               order = file[(y+i),4])))\n",
    "}"
   ]
  },
  {
   "cell_type": "markdown",
   "metadata": {},
   "source": [
    "# This part is important for us to improve. STOP HERE\n",
    "## Right now, we have to manually select which scripts to be run based on the analysis you need\n",
    "* All of the objects above wil get used by the scripts we run below\n",
    "\n",
    "\n",
    "\n",
    "Some things to work on:\n",
    "* I'm getting a warning now due to some changes in other packages. It would be great if we could update the code to work with the new syntax\n",
    "* Make drop down list where users can select which combination of analyses they need:\n",
    " * AMR/16S qiime2 results/kraken2 results"
   ]
  },
  {
   "cell_type": "code",
   "execution_count": null,
   "metadata": {
    "scrolled": true
   },
   "outputs": [
    {
     "name": "stderr",
     "output_type": "stream",
     "text": [
      "/Users/akhilgupta/opt/anaconda3/envs/r_environment/lib/python3.7/site-packages/rpy2/rinterface/__init__.py:146: RRuntimeWarning: Bioconductor version 3.10 (BiocManager 1.30.10), R 3.6.1 (2019-07-05)\n",
      "\n",
      "  warnings.warn(x, RRuntimeWarning)\n",
      "/Users/akhilgupta/opt/anaconda3/envs/r_environment/lib/python3.7/site-packages/rpy2/rinterface/__init__.py:146: RRuntimeWarning: Installing package(s) 'BiocVersion', 'phyloseq'\n",
      "\n",
      "  warnings.warn(x, RRuntimeWarning)\n",
      "/Users/akhilgupta/opt/anaconda3/envs/r_environment/lib/python3.7/site-packages/rpy2/rinterface/__init__.py:146: RRuntimeWarning: also installing the dependencies ‘Rhdf5lib’, ‘zlibbioc’, ‘pixmap’, ‘sp’, ‘rhdf5’, ‘S4Vectors’, ‘IRanges’, ‘XVector’, ‘permute’, ‘ade4’, ‘ape’, ‘Biobase’, ‘BiocGenerics’, ‘biomformat’, ‘Biostrings’, ‘igraph’, ‘multtest’, ‘vegan’\n",
      "\n",
      "\n",
      "  warnings.warn(x, RRuntimeWarning)\n",
      "/Users/akhilgupta/opt/anaconda3/envs/r_environment/lib/python3.7/site-packages/rpy2/rinterface/__init__.py:146: RRuntimeWarning: trying URL 'https://bioconductor.org/packages/3.10/bioc/src/contrib/Rhdf5lib_1.8.0.tar.gz'\n",
      "\n",
      "  warnings.warn(x, RRuntimeWarning)\n",
      "/Users/akhilgupta/opt/anaconda3/envs/r_environment/lib/python3.7/site-packages/rpy2/rinterface/__init__.py:146: RRuntimeWarning: Content type 'application/x-gzip'\n",
      "  warnings.warn(x, RRuntimeWarning)\n",
      "/Users/akhilgupta/opt/anaconda3/envs/r_environment/lib/python3.7/site-packages/rpy2/rinterface/__init__.py:146: RRuntimeWarning:  length 9734415 bytes (9.3 MB)\n",
      "\n",
      "  warnings.warn(x, RRuntimeWarning)\n",
      "/Users/akhilgupta/opt/anaconda3/envs/r_environment/lib/python3.7/site-packages/rpy2/rinterface/__init__.py:146: RRuntimeWarning: =\n",
      "  warnings.warn(x, RRuntimeWarning)\n",
      "/Users/akhilgupta/opt/anaconda3/envs/r_environment/lib/python3.7/site-packages/rpy2/rinterface/__init__.py:146: RRuntimeWarning: \n",
      "\n",
      "  warnings.warn(x, RRuntimeWarning)\n",
      "/Users/akhilgupta/opt/anaconda3/envs/r_environment/lib/python3.7/site-packages/rpy2/rinterface/__init__.py:146: RRuntimeWarning: downloaded 9.3 MB\n",
      "\n",
      "\n",
      "  warnings.warn(x, RRuntimeWarning)\n",
      "/Users/akhilgupta/opt/anaconda3/envs/r_environment/lib/python3.7/site-packages/rpy2/rinterface/__init__.py:146: RRuntimeWarning: trying URL 'https://bioconductor.org/packages/3.10/bioc/src/contrib/zlibbioc_1.32.0.tar.gz'\n",
      "\n",
      "  warnings.warn(x, RRuntimeWarning)\n",
      "/Users/akhilgupta/opt/anaconda3/envs/r_environment/lib/python3.7/site-packages/rpy2/rinterface/__init__.py:146: RRuntimeWarning:  length 256968 bytes (250 KB)\n",
      "\n",
      "  warnings.warn(x, RRuntimeWarning)\n",
      "/Users/akhilgupta/opt/anaconda3/envs/r_environment/lib/python3.7/site-packages/rpy2/rinterface/__init__.py:146: RRuntimeWarning: downloaded 250 KB\n",
      "\n",
      "\n",
      "  warnings.warn(x, RRuntimeWarning)\n",
      "/Users/akhilgupta/opt/anaconda3/envs/r_environment/lib/python3.7/site-packages/rpy2/rinterface/__init__.py:146: RRuntimeWarning: trying URL 'https://mirror.las.iastate.edu/CRAN/src/contrib/pixmap_0.4-11.tar.gz'\n",
      "\n",
      "  warnings.warn(x, RRuntimeWarning)\n",
      "/Users/akhilgupta/opt/anaconda3/envs/r_environment/lib/python3.7/site-packages/rpy2/rinterface/__init__.py:146: RRuntimeWarning:  length 34461 bytes (33 KB)\n",
      "\n",
      "  warnings.warn(x, RRuntimeWarning)\n",
      "/Users/akhilgupta/opt/anaconda3/envs/r_environment/lib/python3.7/site-packages/rpy2/rinterface/__init__.py:146: RRuntimeWarning: downloaded 33 KB\n",
      "\n",
      "\n",
      "  warnings.warn(x, RRuntimeWarning)\n",
      "/Users/akhilgupta/opt/anaconda3/envs/r_environment/lib/python3.7/site-packages/rpy2/rinterface/__init__.py:146: RRuntimeWarning: trying URL 'https://mirror.las.iastate.edu/CRAN/src/contrib/sp_1.4-1.tar.gz'\n",
      "\n",
      "  warnings.warn(x, RRuntimeWarning)\n",
      "/Users/akhilgupta/opt/anaconda3/envs/r_environment/lib/python3.7/site-packages/rpy2/rinterface/__init__.py:146: RRuntimeWarning:  length 1132945 bytes (1.1 MB)\n",
      "\n",
      "  warnings.warn(x, RRuntimeWarning)\n",
      "/Users/akhilgupta/opt/anaconda3/envs/r_environment/lib/python3.7/site-packages/rpy2/rinterface/__init__.py:146: RRuntimeWarning: downloaded 1.1 MB\n",
      "\n",
      "\n",
      "  warnings.warn(x, RRuntimeWarning)\n",
      "/Users/akhilgupta/opt/anaconda3/envs/r_environment/lib/python3.7/site-packages/rpy2/rinterface/__init__.py:146: RRuntimeWarning: trying URL 'https://bioconductor.org/packages/3.10/bioc/src/contrib/rhdf5_2.30.1.tar.gz'\n",
      "\n",
      "  warnings.warn(x, RRuntimeWarning)\n",
      "/Users/akhilgupta/opt/anaconda3/envs/r_environment/lib/python3.7/site-packages/rpy2/rinterface/__init__.py:146: RRuntimeWarning:  length 834814 bytes (815 KB)\n",
      "\n",
      "  warnings.warn(x, RRuntimeWarning)\n",
      "/Users/akhilgupta/opt/anaconda3/envs/r_environment/lib/python3.7/site-packages/rpy2/rinterface/__init__.py:146: RRuntimeWarning: downloaded 815 KB\n",
      "\n",
      "\n",
      "  warnings.warn(x, RRuntimeWarning)\n",
      "/Users/akhilgupta/opt/anaconda3/envs/r_environment/lib/python3.7/site-packages/rpy2/rinterface/__init__.py:146: RRuntimeWarning: trying URL 'https://bioconductor.org/packages/3.10/bioc/src/contrib/S4Vectors_0.24.4.tar.gz'\n",
      "\n",
      "  warnings.warn(x, RRuntimeWarning)\n",
      "/Users/akhilgupta/opt/anaconda3/envs/r_environment/lib/python3.7/site-packages/rpy2/rinterface/__init__.py:146: RRuntimeWarning:  length 651028 bytes (635 KB)\n",
      "\n",
      "  warnings.warn(x, RRuntimeWarning)\n",
      "/Users/akhilgupta/opt/anaconda3/envs/r_environment/lib/python3.7/site-packages/rpy2/rinterface/__init__.py:146: RRuntimeWarning: downloaded 635 KB\n",
      "\n",
      "\n",
      "  warnings.warn(x, RRuntimeWarning)\n",
      "/Users/akhilgupta/opt/anaconda3/envs/r_environment/lib/python3.7/site-packages/rpy2/rinterface/__init__.py:146: RRuntimeWarning: trying URL 'https://bioconductor.org/packages/3.10/bioc/src/contrib/IRanges_2.20.2.tar.gz'\n",
      "\n",
      "  warnings.warn(x, RRuntimeWarning)\n",
      "/Users/akhilgupta/opt/anaconda3/envs/r_environment/lib/python3.7/site-packages/rpy2/rinterface/__init__.py:146: RRuntimeWarning:  length 463845 bytes (452 KB)\n",
      "\n",
      "  warnings.warn(x, RRuntimeWarning)\n",
      "/Users/akhilgupta/opt/anaconda3/envs/r_environment/lib/python3.7/site-packages/rpy2/rinterface/__init__.py:146: RRuntimeWarning: downloaded 452 KB\n",
      "\n",
      "\n",
      "  warnings.warn(x, RRuntimeWarning)\n",
      "/Users/akhilgupta/opt/anaconda3/envs/r_environment/lib/python3.7/site-packages/rpy2/rinterface/__init__.py:146: RRuntimeWarning: trying URL 'https://bioconductor.org/packages/3.10/bioc/src/contrib/XVector_0.26.0.tar.gz'\n",
      "\n",
      "  warnings.warn(x, RRuntimeWarning)\n",
      "/Users/akhilgupta/opt/anaconda3/envs/r_environment/lib/python3.7/site-packages/rpy2/rinterface/__init__.py:146: RRuntimeWarning:  length 66028 bytes (64 KB)\n",
      "\n",
      "  warnings.warn(x, RRuntimeWarning)\n",
      "/Users/akhilgupta/opt/anaconda3/envs/r_environment/lib/python3.7/site-packages/rpy2/rinterface/__init__.py:146: RRuntimeWarning: downloaded 64 KB\n",
      "\n",
      "\n",
      "  warnings.warn(x, RRuntimeWarning)\n",
      "/Users/akhilgupta/opt/anaconda3/envs/r_environment/lib/python3.7/site-packages/rpy2/rinterface/__init__.py:146: RRuntimeWarning: trying URL 'https://mirror.las.iastate.edu/CRAN/src/contrib/permute_0.9-5.tar.gz'\n",
      "\n",
      "  warnings.warn(x, RRuntimeWarning)\n",
      "/Users/akhilgupta/opt/anaconda3/envs/r_environment/lib/python3.7/site-packages/rpy2/rinterface/__init__.py:146: RRuntimeWarning:  length 400033 bytes (390 KB)\n",
      "\n",
      "  warnings.warn(x, RRuntimeWarning)\n",
      "/Users/akhilgupta/opt/anaconda3/envs/r_environment/lib/python3.7/site-packages/rpy2/rinterface/__init__.py:146: RRuntimeWarning: downloaded 390 KB\n",
      "\n",
      "\n",
      "  warnings.warn(x, RRuntimeWarning)\n",
      "/Users/akhilgupta/opt/anaconda3/envs/r_environment/lib/python3.7/site-packages/rpy2/rinterface/__init__.py:146: RRuntimeWarning: trying URL 'https://mirror.las.iastate.edu/CRAN/src/contrib/ade4_1.7-15.tar.gz'\n",
      "\n",
      "  warnings.warn(x, RRuntimeWarning)\n",
      "/Users/akhilgupta/opt/anaconda3/envs/r_environment/lib/python3.7/site-packages/rpy2/rinterface/__init__.py:146: RRuntimeWarning:  length 3223972 bytes (3.1 MB)\n",
      "\n",
      "  warnings.warn(x, RRuntimeWarning)\n",
      "/Users/akhilgupta/opt/anaconda3/envs/r_environment/lib/python3.7/site-packages/rpy2/rinterface/__init__.py:146: RRuntimeWarning: downloaded 3.1 MB\n",
      "\n",
      "\n",
      "  warnings.warn(x, RRuntimeWarning)\n",
      "/Users/akhilgupta/opt/anaconda3/envs/r_environment/lib/python3.7/site-packages/rpy2/rinterface/__init__.py:146: RRuntimeWarning: trying URL 'https://mirror.las.iastate.edu/CRAN/src/contrib/ape_5.3.tar.gz'\n",
      "\n",
      "  warnings.warn(x, RRuntimeWarning)\n",
      "/Users/akhilgupta/opt/anaconda3/envs/r_environment/lib/python3.7/site-packages/rpy2/rinterface/__init__.py:146: RRuntimeWarning:  length 793073 bytes (774 KB)\n",
      "\n",
      "  warnings.warn(x, RRuntimeWarning)\n",
      "/Users/akhilgupta/opt/anaconda3/envs/r_environment/lib/python3.7/site-packages/rpy2/rinterface/__init__.py:146: RRuntimeWarning: downloaded 774 KB\n",
      "\n",
      "\n",
      "  warnings.warn(x, RRuntimeWarning)\n",
      "/Users/akhilgupta/opt/anaconda3/envs/r_environment/lib/python3.7/site-packages/rpy2/rinterface/__init__.py:146: RRuntimeWarning: trying URL 'https://bioconductor.org/packages/3.10/bioc/src/contrib/Biobase_2.46.0.tar.gz'\n",
      "\n",
      "  warnings.warn(x, RRuntimeWarning)\n",
      "/Users/akhilgupta/opt/anaconda3/envs/r_environment/lib/python3.7/site-packages/rpy2/rinterface/__init__.py:146: RRuntimeWarning:  length 1657663 bytes (1.6 MB)\n",
      "\n",
      "  warnings.warn(x, RRuntimeWarning)\n"
     ]
    },
    {
     "name": "stderr",
     "output_type": "stream",
     "text": [
      "/Users/akhilgupta/opt/anaconda3/envs/r_environment/lib/python3.7/site-packages/rpy2/rinterface/__init__.py:146: RRuntimeWarning: downloaded 1.6 MB\n",
      "\n",
      "\n",
      "  warnings.warn(x, RRuntimeWarning)\n",
      "/Users/akhilgupta/opt/anaconda3/envs/r_environment/lib/python3.7/site-packages/rpy2/rinterface/__init__.py:146: RRuntimeWarning: trying URL 'https://bioconductor.org/packages/3.10/bioc/src/contrib/BiocGenerics_0.32.0.tar.gz'\n",
      "\n",
      "  warnings.warn(x, RRuntimeWarning)\n",
      "/Users/akhilgupta/opt/anaconda3/envs/r_environment/lib/python3.7/site-packages/rpy2/rinterface/__init__.py:146: RRuntimeWarning:  length 46806 bytes (45 KB)\n",
      "\n",
      "  warnings.warn(x, RRuntimeWarning)\n",
      "/Users/akhilgupta/opt/anaconda3/envs/r_environment/lib/python3.7/site-packages/rpy2/rinterface/__init__.py:146: RRuntimeWarning: downloaded 45 KB\n",
      "\n",
      "\n",
      "  warnings.warn(x, RRuntimeWarning)\n",
      "/Users/akhilgupta/opt/anaconda3/envs/r_environment/lib/python3.7/site-packages/rpy2/rinterface/__init__.py:146: RRuntimeWarning: trying URL 'https://bioconductor.org/packages/3.10/bioc/src/contrib/biomformat_1.14.0.tar.gz'\n",
      "\n",
      "  warnings.warn(x, RRuntimeWarning)\n",
      "/Users/akhilgupta/opt/anaconda3/envs/r_environment/lib/python3.7/site-packages/rpy2/rinterface/__init__.py:146: RRuntimeWarning:  length 302276 bytes (295 KB)\n",
      "\n",
      "  warnings.warn(x, RRuntimeWarning)\n",
      "/Users/akhilgupta/opt/anaconda3/envs/r_environment/lib/python3.7/site-packages/rpy2/rinterface/__init__.py:146: RRuntimeWarning: downloaded 295 KB\n",
      "\n",
      "\n",
      "  warnings.warn(x, RRuntimeWarning)\n",
      "/Users/akhilgupta/opt/anaconda3/envs/r_environment/lib/python3.7/site-packages/rpy2/rinterface/__init__.py:146: RRuntimeWarning: trying URL 'https://bioconductor.org/packages/3.10/bioc/src/contrib/Biostrings_2.54.0.tar.gz'\n",
      "\n",
      "  warnings.warn(x, RRuntimeWarning)\n",
      "/Users/akhilgupta/opt/anaconda3/envs/r_environment/lib/python3.7/site-packages/rpy2/rinterface/__init__.py:146: RRuntimeWarning:  length 12708673 bytes (12.1 MB)\n",
      "\n",
      "  warnings.warn(x, RRuntimeWarning)\n",
      "/Users/akhilgupta/opt/anaconda3/envs/r_environment/lib/python3.7/site-packages/rpy2/rinterface/__init__.py:146: RRuntimeWarning: downloaded 12.1 MB\n",
      "\n",
      "\n",
      "  warnings.warn(x, RRuntimeWarning)\n",
      "/Users/akhilgupta/opt/anaconda3/envs/r_environment/lib/python3.7/site-packages/rpy2/rinterface/__init__.py:146: RRuntimeWarning: trying URL 'https://mirror.las.iastate.edu/CRAN/src/contrib/igraph_1.2.5.tar.gz'\n",
      "\n",
      "  warnings.warn(x, RRuntimeWarning)\n",
      "/Users/akhilgupta/opt/anaconda3/envs/r_environment/lib/python3.7/site-packages/rpy2/rinterface/__init__.py:146: RRuntimeWarning:  length 2726569 bytes (2.6 MB)\n",
      "\n",
      "  warnings.warn(x, RRuntimeWarning)\n",
      "/Users/akhilgupta/opt/anaconda3/envs/r_environment/lib/python3.7/site-packages/rpy2/rinterface/__init__.py:146: RRuntimeWarning: downloaded 2.6 MB\n",
      "\n",
      "\n",
      "  warnings.warn(x, RRuntimeWarning)\n",
      "/Users/akhilgupta/opt/anaconda3/envs/r_environment/lib/python3.7/site-packages/rpy2/rinterface/__init__.py:146: RRuntimeWarning: trying URL 'https://bioconductor.org/packages/3.10/bioc/src/contrib/multtest_2.42.0.tar.gz'\n",
      "\n",
      "  warnings.warn(x, RRuntimeWarning)\n",
      "/Users/akhilgupta/opt/anaconda3/envs/r_environment/lib/python3.7/site-packages/rpy2/rinterface/__init__.py:146: RRuntimeWarning:  length 1294308 bytes (1.2 MB)\n",
      "\n",
      "  warnings.warn(x, RRuntimeWarning)\n",
      "/Users/akhilgupta/opt/anaconda3/envs/r_environment/lib/python3.7/site-packages/rpy2/rinterface/__init__.py:146: RRuntimeWarning: downloaded 1.2 MB\n",
      "\n",
      "\n",
      "  warnings.warn(x, RRuntimeWarning)\n",
      "/Users/akhilgupta/opt/anaconda3/envs/r_environment/lib/python3.7/site-packages/rpy2/rinterface/__init__.py:146: RRuntimeWarning: trying URL 'https://mirror.las.iastate.edu/CRAN/src/contrib/vegan_2.5-6.tar.gz'\n",
      "\n",
      "  warnings.warn(x, RRuntimeWarning)\n",
      "/Users/akhilgupta/opt/anaconda3/envs/r_environment/lib/python3.7/site-packages/rpy2/rinterface/__init__.py:146: RRuntimeWarning:  length 2039486 bytes (1.9 MB)\n",
      "\n",
      "  warnings.warn(x, RRuntimeWarning)\n",
      "/Users/akhilgupta/opt/anaconda3/envs/r_environment/lib/python3.7/site-packages/rpy2/rinterface/__init__.py:146: RRuntimeWarning: downloaded 1.9 MB\n",
      "\n",
      "\n",
      "  warnings.warn(x, RRuntimeWarning)\n",
      "/Users/akhilgupta/opt/anaconda3/envs/r_environment/lib/python3.7/site-packages/rpy2/rinterface/__init__.py:146: RRuntimeWarning: trying URL 'https://bioconductor.org/packages/3.10/bioc/src/contrib/BiocVersion_3.10.1.tar.gz'\n",
      "\n",
      "  warnings.warn(x, RRuntimeWarning)\n",
      "/Users/akhilgupta/opt/anaconda3/envs/r_environment/lib/python3.7/site-packages/rpy2/rinterface/__init__.py:146: RRuntimeWarning:  length 984 bytes\n",
      "\n",
      "  warnings.warn(x, RRuntimeWarning)\n",
      "/Users/akhilgupta/opt/anaconda3/envs/r_environment/lib/python3.7/site-packages/rpy2/rinterface/__init__.py:146: RRuntimeWarning: downloaded 984 bytes\n",
      "\n",
      "\n",
      "  warnings.warn(x, RRuntimeWarning)\n",
      "/Users/akhilgupta/opt/anaconda3/envs/r_environment/lib/python3.7/site-packages/rpy2/rinterface/__init__.py:146: RRuntimeWarning: trying URL 'https://bioconductor.org/packages/3.10/bioc/src/contrib/phyloseq_1.30.0.tar.gz'\n",
      "\n",
      "  warnings.warn(x, RRuntimeWarning)\n",
      "/Users/akhilgupta/opt/anaconda3/envs/r_environment/lib/python3.7/site-packages/rpy2/rinterface/__init__.py:146: RRuntimeWarning:  length 5451345 bytes (5.2 MB)\n",
      "\n",
      "  warnings.warn(x, RRuntimeWarning)\n",
      "/Users/akhilgupta/opt/anaconda3/envs/r_environment/lib/python3.7/site-packages/rpy2/rinterface/__init__.py:146: RRuntimeWarning: downloaded 5.2 MB\n",
      "\n",
      "\n",
      "  warnings.warn(x, RRuntimeWarning)\n",
      "/Users/akhilgupta/opt/anaconda3/envs/r_environment/lib/python3.7/site-packages/rpy2/rinterface/__init__.py:146: RRuntimeWarning: \n",
      "  warnings.warn(x, RRuntimeWarning)\n",
      "/Users/akhilgupta/opt/anaconda3/envs/r_environment/lib/python3.7/site-packages/rpy2/rinterface/__init__.py:146: RRuntimeWarning: The downloaded source packages are in\n",
      "\t‘/private/var/folders/sz/7dfgjxcs2ys3wxplh6d60d700000gn/T/Rtmp1Cv0w5/downloaded_packages’\n",
      "  warnings.warn(x, RRuntimeWarning)\n",
      "/Users/akhilgupta/opt/anaconda3/envs/r_environment/lib/python3.7/site-packages/rpy2/rinterface/__init__.py:146: RRuntimeWarning: Updating HTML index of packages in '.Library'\n",
      "\n",
      "  warnings.warn(x, RRuntimeWarning)\n",
      "/Users/akhilgupta/opt/anaconda3/envs/r_environment/lib/python3.7/site-packages/rpy2/rinterface/__init__.py:146: RRuntimeWarning: Making 'packages.html' ...\n",
      "  warnings.warn(x, RRuntimeWarning)\n",
      "/Users/akhilgupta/opt/anaconda3/envs/r_environment/lib/python3.7/site-packages/rpy2/rinterface/__init__.py:146: RRuntimeWarning:  done\n",
      "\n",
      "  warnings.warn(x, RRuntimeWarning)\n",
      "/Users/akhilgupta/opt/anaconda3/envs/r_environment/lib/python3.7/site-packages/rpy2/rinterface/__init__.py:146: RRuntimeWarning: Old packages: 'BH', 'DBI', 'DT', 'IRkernel', 'KernSmooth', 'MASS', 'Matrix',\n",
      "  'ModelMetrics', 'PKI', 'R6', 'RCurl', 'RJDBC', 'RJSONIO', 'RSQLite', 'Rcpp',\n",
      "  'SQUAREM', 'TTR', 'askpass', 'backports', 'bit', 'blob', 'boot', 'broom',\n",
      "  'caTools', 'callr', 'caret', 'class', 'cli', 'clipr', 'cluster', 'curl',\n",
      "  'data.table', 'dbplyr', 'devtools', 'dplyr', 'fansi', 'forcats', 'foreach',\n",
      "  'formatR', 'fs', 'ggplot2', 'gh', 'git2r', 'glmnet', 'glue', 'gower',\n",
      "  'haven', 'hexbin', 'hms', 'htmltools', 'htmlwidgets', 'httpuv', 'httr',\n",
      "  'ipred', 'iterators', 'knitr', 'later', 'lattice', 'lava', 'lubridate',\n",
      "  'markdown', 'mgcv', 'modelr', 'mongolite', 'nlme', 'nnet', 'numDeriv',\n",
      "  'odbc', 'openssl', 'pillar', 'pkgbuild', 'pkgconfig', 'plyr', 'prettyunits',\n",
      "  'processx', 'prodlim', 'profvis', 'progress', 'promises', 'ps', 'purrr',\n",
      "  'quantmod', 'rJava', 'rcmdcheck', 'recipes', 'remotes', 'repr', 'reprex',\n",
      "  'reshape2', 'rex', 'rlang', 'rmarkdown', 'rsconnect', 'rstudioapi', 'rvest',\n",
      "  'scales', 'selectr', 'shiny', 'sparklyr', 'spatial', 'stringi', 'survival',\n",
      "  'sys', 'tibble', 'tidyr', 'tidyselect', 'tidyverse', 'tinytex', 'usethis',\n",
      "  'uuid', 'whisker', 'withr', 'xfun', 'xml2', 'xts', 'yaml', 'zoo'\n",
      "\n",
      "  warnings.warn(x, RRuntimeWarning)\n"
     ]
    }
   ],
   "source": [
    "%%R\n",
    "BiocManager::install(\"phyloseq\")"
   ]
  },
  {
   "cell_type": "code",
   "execution_count": 4,
   "metadata": {},
   "outputs": [
    {
     "name": "stdout",
     "output_type": "stream",
     "text": [
      "\n",
      "Error in import_biom(biom_file, tre_file, tax_fasta) : \n",
      "  could not find function \"import_biom\"\n"
     ]
    },
    {
     "name": "stderr",
     "output_type": "stream",
     "text": [
      "/Users/akhilgupta/opt/anaconda3/envs/r_environment/lib/python3.7/site-packages/rpy2/rinterface/__init__.py:146: RRuntimeWarning: Error in import_biom(biom_file, tre_file, tax_fasta) : \n",
      "  could not find function \"import_biom\"\n",
      "\n",
      "  warnings.warn(x, RRuntimeWarning)\n"
     ]
    }
   ],
   "source": [
    "%%R\n",
    "\n",
    "####### END OF USER CONTROLS ######\n",
    "\n",
    "## Pick the correct script that handles resistome data and/or microbiome data.\n",
    "#### If shotgun microbiome and megares analysis, run:\n",
    "#source('scripts/metagenomeSeq_megares_kraken.R')\n",
    "\n",
    "#### If 16S microbiome and megares analysis, run:\n",
    "source('scripts/metagenomeSeq_megares_qiime.R')"
   ]
  },
  {
   "cell_type": "markdown",
   "metadata": {},
   "source": [
    "# Now, you can print exploratory figures to your local directory. \n",
    "\n",
    "This part takes a long time, but creates relative abundance barplots, diversity barplots, NMDS, PCA, and heatmaps. \n",
    "For now it's commented out because the NMDS function creates a bunch of messages that look ugly. We can probably find a way to fix this though. \n",
    "\n",
    "Other little things:\n",
    "* I want to add better functionality to the functions in the \"scripts/meg_utility_functions.R\" file where we can better handle cases with factors > 20 in length"
   ]
  },
  {
   "cell_type": "code",
   "execution_count": null,
   "metadata": {},
   "outputs": [],
   "source": [
    "%%R\n",
    "\n",
    "######## THEN print figures #\n",
    "\n",
    "# After running this script, these are the useful objects that contain all the data aggregated to different levels\n",
    "# The metagenomeSeq objects are contained in these lists \"AMR_analytic_data\" and \"microbiome_analytic_data\"\n",
    "# Melted counts are contained in these data.table objects \"amr_melted_analytic\" \"microbiome_melted_analytic\"\n",
    "\n",
    "## Run code to make some exploratory figures, zero inflated gaussian model, and output count matrices.\n",
    "suppressMessages(source('scripts/print_figures.R'))"
   ]
  },
  {
   "cell_type": "markdown",
   "metadata": {},
   "source": [
    "# Everything after this is where we can get creative to summarize our results. For now, let's focus on streamlining how we use everything above\n",
    "## Here, we can have an area to show them how to play around with ggplot2\n",
    "    \n",
    "### The main objects to use are\n",
    "* AMR\n",
    "  * amr_melted_analytic/amr_raw_melted_analytic\n",
    "   * Object of all counts in long form\n",
    "  * AMR_analytic_data\n",
    "   * List of MRexperiment objects at each level; Class, Mechanism, Group, Gene\n",
    "* Microbiome\n",
    "  * microbiome_melted_analytic/microbiome_raw_melted_analytic\n",
    "  * microbiome_analytic_data\n",
    "\n",
    "    First, combine the normalized count tables with the metadata file."
   ]
  },
  {
   "cell_type": "code",
   "execution_count": 18,
   "metadata": {},
   "outputs": [
    {
     "name": "stdout",
     "output_type": "stream",
     "text": [
      "\n",
      "Error in head(amr_melted_analytic) : \n",
      "  object 'amr_melted_analytic' not found\n"
     ]
    },
    {
     "name": "stderr",
     "output_type": "stream",
     "text": [
      "/Users/akhilgupta/opt/anaconda3/envs/r_environment/lib/python3.7/site-packages/rpy2/rinterface/__init__.py:146: RRuntimeWarning: Error in head(amr_melted_analytic) : \n",
      "  object 'amr_melted_analytic' not found\n",
      "\n",
      "  warnings.warn(x, RRuntimeWarning)\n"
     ]
    }
   ],
   "source": [
    "%%R\n",
    "\n",
    "head(amr_melted_analytic)"
   ]
  },
  {
   "cell_type": "code",
   "execution_count": null,
   "metadata": {},
   "outputs": [],
   "source": [
    "%%R\n",
    "\n",
    "### Start of code for figures, combine table objects to include meta\n",
    "setkey(amr_melted_raw_analytic,ID) \n",
    "setkey(amr_melted_analytic,ID) \n",
    "\n",
    "setkey(microbiome_melted_analytic,ID)\n",
    "# Set keys for both metadata files\n",
    "setkey(metadata,ID)\n",
    "setkey(microbiome_metadata,ID)\n",
    "microbiome_melted_analytic <- microbiome_melted_analytic[microbiome_metadata]\n",
    "amr_melted_raw_analytic <- amr_melted_raw_analytic[metadata]\n",
    "amr_melted_analytic <- amr_melted_analytic[metadata]"
   ]
  },
  {
   "cell_type": "code",
   "execution_count": null,
   "metadata": {},
   "outputs": [],
   "source": [
    "%%R\n",
    "\n",
    "## Figure 1 showing resistome composition\n",
    "AMR_class_sum <- amr_melted_analytic[Level_ID==\"Class\", .(sum_class= sum(Normalized_Count)),by=.(ID, Name, Packaging, Treatment)][order(-Packaging )]\n",
    "AMR_class_sum[,total:= sum(sum_class), by=.(ID)]\n",
    "AMR_class_sum[,percentage:= sum_class/total ,by=.(ID, Name) ]\n",
    "AMR_class_sum$Class <- AMR_class_sum$Name\n",
    "fig1 <- ggplot(AMR_class_sum, aes(x = ID, y = percentage, fill = Class)) + \n",
    "  geom_bar(stat = \"identity\",colour = \"black\")+\n",
    "  facet_wrap( ~ Treatment, scales='free',ncol = 2) +\n",
    "  #scale_fill_brewer(palette=\"Dark2\") +\n",
    "  theme(\n",
    "    panel.grid.major=element_blank(),\n",
    "    panel.grid.minor=element_blank(),\n",
    "    strip.text.x=element_text(size=22),\n",
    "    strip.text.y=element_text(size=22, angle=0),\n",
    "    axis.text.x=element_blank(), #element_text(size=16, angle=20, hjust=1)\n",
    "    axis.text.y=element_text(size=20),\n",
    "    axis.title=element_text(size=22),\n",
    "    legend.position=\"right\",\n",
    "    panel.spacing=unit(0.1, \"lines\"),\n",
    "    plot.title=element_text(size=22, hjust=0.5),\n",
    "    legend.text=element_text(size=10),\n",
    "    legend.title=element_text(size=20),\n",
    "    panel.background = element_rect(fill = \"white\")\n",
    "  ) +\n",
    "  ggtitle(\"\\t\\tResistome composition by sample\") +\n",
    "  xlab('Sample') +\n",
    "  ylab('Relative abundance') +\n",
    "  scale_fill_tableau(\"Tableau 20\") \n",
    "fig1"
   ]
  },
  {
   "cell_type": "code",
   "execution_count": null,
   "metadata": {},
   "outputs": [],
   "source": []
  }
 ],
 "metadata": {
  "kernelspec": {
   "display_name": "Python 3",
   "language": "python",
   "name": "python3"
  },
  "language_info": {
   "codemirror_mode": {
    "name": "ipython",
    "version": 3
   },
   "file_extension": ".py",
   "mimetype": "text/x-python",
   "name": "python",
   "nbconvert_exporter": "python",
   "pygments_lexer": "ipython3",
   "version": "3.7.6"
  }
 },
 "nbformat": 4,
 "nbformat_minor": 4
}
